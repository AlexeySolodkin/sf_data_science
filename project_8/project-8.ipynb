{
 "cells": [
  {
   "cell_type": "markdown",
   "id": "3228cda9",
   "metadata": {},
   "source": [
    "# Государственные деньги у НКО"
   ]
  },
  {
   "cell_type": "markdown",
   "id": "7e76ee39",
   "metadata": {},
   "source": [
    "**Задача** — проверить, есть ли зависимость вероятности получения грантов от государства / госконтрактов для некоммерческих организаций:\n",
    "\n",
    "- от региона регистрации организации;\n",
    "- возраста организации;\n",
    "- экономической деятельности организации."
   ]
  },
  {
   "cell_type": "code",
   "execution_count": 1,
   "id": "09c0d553",
   "metadata": {},
   "outputs": [],
   "source": [
    "import numpy as np\n",
    "import pandas as pd\n",
    "import matplotlib.pyplot as plt\n",
    "import seaborn as sns\n",
    "import warnings\n",
    "warnings.simplefilter('ignore')\n",
    "\n",
    "from sklearn.model_selection import train_test_split\n",
    "from sklearn import linear_model\n",
    "from sklearn.metrics import precision_score, recall_score, f1_score\n",
    "from sklearn import tree\n",
    "from sklearn import ensemble\n",
    "from sklearn import neighbors\n",
    "from sklearn.model_selection import GridSearchCV\n",
    "\n",
    "import pickle"
   ]
  },
  {
   "cell_type": "code",
   "execution_count": 2,
   "id": "8756aac3",
   "metadata": {},
   "outputs": [
    {
     "data": {
      "text/html": [
       "<div>\n",
       "<style scoped>\n",
       "    .dataframe tbody tr th:only-of-type {\n",
       "        vertical-align: middle;\n",
       "    }\n",
       "\n",
       "    .dataframe tbody tr th {\n",
       "        vertical-align: top;\n",
       "    }\n",
       "\n",
       "    .dataframe thead th {\n",
       "        text-align: right;\n",
       "    }\n",
       "</style>\n",
       "<table border=\"1\" class=\"dataframe\">\n",
       "  <thead>\n",
       "    <tr style=\"text-align: right;\">\n",
       "      <th></th>\n",
       "      <th>ngo_age</th>\n",
       "      <th>has_grant_contract</th>\n",
       "      <th>Деятельность в области спорта прочая</th>\n",
       "      <th>Управление эксплуатацией нежилого фонда за вознаграждение или на договорной основе</th>\n",
       "      <th>Аренда и управление собственным или арендованным недвижимым имуществом</th>\n",
       "      <th>Деятельность по дополнительному профессиональному образованию прочая, не включенная в другие группировки</th>\n",
       "      <th>Деятельность по предоставлению прочих вспомогательных услуг для бизнеса, не включенная в другие группировки</th>\n",
       "      <th>Строительство жилых и нежилых зданий</th>\n",
       "      <th>Консультирование по вопросам коммерческой деятельности и управления</th>\n",
       "      <th>Деятельность зрелищно-развлекательная прочая, не включенная в другие группировки</th>\n",
       "      <th>...</th>\n",
       "      <th>regionName_Удмуртская республика</th>\n",
       "      <th>regionName_Ульяновская область</th>\n",
       "      <th>regionName_Хабаровский край</th>\n",
       "      <th>regionName_Ханты-Мансийский автономный округ - Югра</th>\n",
       "      <th>regionName_Челябинская область</th>\n",
       "      <th>regionName_Чеченская республика</th>\n",
       "      <th>regionName_Чувашская республика</th>\n",
       "      <th>regionName_Чукотский автономный округ</th>\n",
       "      <th>regionName_Ямало-Ненецкий автономный округ</th>\n",
       "      <th>regionName_Ярославская область</th>\n",
       "    </tr>\n",
       "  </thead>\n",
       "  <tbody>\n",
       "    <tr>\n",
       "      <th>0</th>\n",
       "      <td>0</td>\n",
       "      <td>0</td>\n",
       "      <td>0</td>\n",
       "      <td>0</td>\n",
       "      <td>0</td>\n",
       "      <td>0</td>\n",
       "      <td>0</td>\n",
       "      <td>0</td>\n",
       "      <td>0</td>\n",
       "      <td>0</td>\n",
       "      <td>...</td>\n",
       "      <td>0</td>\n",
       "      <td>0</td>\n",
       "      <td>0</td>\n",
       "      <td>0</td>\n",
       "      <td>0</td>\n",
       "      <td>0</td>\n",
       "      <td>0</td>\n",
       "      <td>0</td>\n",
       "      <td>0</td>\n",
       "      <td>0</td>\n",
       "    </tr>\n",
       "    <tr>\n",
       "      <th>1</th>\n",
       "      <td>1</td>\n",
       "      <td>0</td>\n",
       "      <td>0</td>\n",
       "      <td>0</td>\n",
       "      <td>0</td>\n",
       "      <td>0</td>\n",
       "      <td>0</td>\n",
       "      <td>0</td>\n",
       "      <td>0</td>\n",
       "      <td>0</td>\n",
       "      <td>...</td>\n",
       "      <td>0</td>\n",
       "      <td>0</td>\n",
       "      <td>0</td>\n",
       "      <td>0</td>\n",
       "      <td>0</td>\n",
       "      <td>0</td>\n",
       "      <td>0</td>\n",
       "      <td>0</td>\n",
       "      <td>0</td>\n",
       "      <td>0</td>\n",
       "    </tr>\n",
       "    <tr>\n",
       "      <th>2</th>\n",
       "      <td>0</td>\n",
       "      <td>0</td>\n",
       "      <td>0</td>\n",
       "      <td>0</td>\n",
       "      <td>1</td>\n",
       "      <td>0</td>\n",
       "      <td>0</td>\n",
       "      <td>0</td>\n",
       "      <td>0</td>\n",
       "      <td>0</td>\n",
       "      <td>...</td>\n",
       "      <td>0</td>\n",
       "      <td>0</td>\n",
       "      <td>0</td>\n",
       "      <td>0</td>\n",
       "      <td>0</td>\n",
       "      <td>0</td>\n",
       "      <td>0</td>\n",
       "      <td>0</td>\n",
       "      <td>0</td>\n",
       "      <td>0</td>\n",
       "    </tr>\n",
       "    <tr>\n",
       "      <th>3</th>\n",
       "      <td>1</td>\n",
       "      <td>0</td>\n",
       "      <td>0</td>\n",
       "      <td>0</td>\n",
       "      <td>1</td>\n",
       "      <td>0</td>\n",
       "      <td>0</td>\n",
       "      <td>0</td>\n",
       "      <td>0</td>\n",
       "      <td>0</td>\n",
       "      <td>...</td>\n",
       "      <td>0</td>\n",
       "      <td>0</td>\n",
       "      <td>0</td>\n",
       "      <td>0</td>\n",
       "      <td>0</td>\n",
       "      <td>0</td>\n",
       "      <td>0</td>\n",
       "      <td>0</td>\n",
       "      <td>0</td>\n",
       "      <td>0</td>\n",
       "    </tr>\n",
       "    <tr>\n",
       "      <th>4</th>\n",
       "      <td>0</td>\n",
       "      <td>0</td>\n",
       "      <td>0</td>\n",
       "      <td>0</td>\n",
       "      <td>0</td>\n",
       "      <td>0</td>\n",
       "      <td>0</td>\n",
       "      <td>0</td>\n",
       "      <td>0</td>\n",
       "      <td>1</td>\n",
       "      <td>...</td>\n",
       "      <td>0</td>\n",
       "      <td>0</td>\n",
       "      <td>0</td>\n",
       "      <td>0</td>\n",
       "      <td>0</td>\n",
       "      <td>0</td>\n",
       "      <td>0</td>\n",
       "      <td>0</td>\n",
       "      <td>0</td>\n",
       "      <td>0</td>\n",
       "    </tr>\n",
       "  </tbody>\n",
       "</table>\n",
       "<p>5 rows × 566 columns</p>\n",
       "</div>"
      ],
      "text/plain": [
       "   ngo_age  has_grant_contract  Деятельность в области спорта прочая  \\\n",
       "0        0                   0                                     0   \n",
       "1        1                   0                                     0   \n",
       "2        0                   0                                     0   \n",
       "3        1                   0                                     0   \n",
       "4        0                   0                                     0   \n",
       "\n",
       "   Управление эксплуатацией нежилого фонда за вознаграждение или на договорной основе  \\\n",
       "0                                                  0                                    \n",
       "1                                                  0                                    \n",
       "2                                                  0                                    \n",
       "3                                                  0                                    \n",
       "4                                                  0                                    \n",
       "\n",
       "   Аренда и управление собственным или арендованным недвижимым имуществом  \\\n",
       "0                                                  0                        \n",
       "1                                                  0                        \n",
       "2                                                  1                        \n",
       "3                                                  1                        \n",
       "4                                                  0                        \n",
       "\n",
       "   Деятельность по дополнительному профессиональному образованию прочая, не включенная в другие группировки  \\\n",
       "0                                                  0                                                          \n",
       "1                                                  0                                                          \n",
       "2                                                  0                                                          \n",
       "3                                                  0                                                          \n",
       "4                                                  0                                                          \n",
       "\n",
       "   Деятельность по предоставлению прочих вспомогательных услуг для бизнеса, не включенная в другие группировки  \\\n",
       "0                                                  0                                                             \n",
       "1                                                  0                                                             \n",
       "2                                                  0                                                             \n",
       "3                                                  0                                                             \n",
       "4                                                  0                                                             \n",
       "\n",
       "   Строительство жилых и нежилых зданий  \\\n",
       "0                                     0   \n",
       "1                                     0   \n",
       "2                                     0   \n",
       "3                                     0   \n",
       "4                                     0   \n",
       "\n",
       "   Консультирование по вопросам коммерческой деятельности и управления  \\\n",
       "0                                                  0                     \n",
       "1                                                  0                     \n",
       "2                                                  0                     \n",
       "3                                                  0                     \n",
       "4                                                  0                     \n",
       "\n",
       "   Деятельность зрелищно-развлекательная прочая, не включенная в другие группировки  \\\n",
       "0                                                  0                                  \n",
       "1                                                  0                                  \n",
       "2                                                  0                                  \n",
       "3                                                  0                                  \n",
       "4                                                  1                                  \n",
       "\n",
       "   ...  regionName_Удмуртская республика  regionName_Ульяновская область  \\\n",
       "0  ...                                 0                               0   \n",
       "1  ...                                 0                               0   \n",
       "2  ...                                 0                               0   \n",
       "3  ...                                 0                               0   \n",
       "4  ...                                 0                               0   \n",
       "\n",
       "   regionName_Хабаровский край  \\\n",
       "0                            0   \n",
       "1                            0   \n",
       "2                            0   \n",
       "3                            0   \n",
       "4                            0   \n",
       "\n",
       "   regionName_Ханты-Мансийский автономный округ - Югра  \\\n",
       "0                                                  0     \n",
       "1                                                  0     \n",
       "2                                                  0     \n",
       "3                                                  0     \n",
       "4                                                  0     \n",
       "\n",
       "   regionName_Челябинская область  regionName_Чеченская республика  \\\n",
       "0                               0                                0   \n",
       "1                               0                                0   \n",
       "2                               0                                0   \n",
       "3                               0                                0   \n",
       "4                               0                                0   \n",
       "\n",
       "   regionName_Чувашская республика  regionName_Чукотский автономный округ  \\\n",
       "0                                0                                      0   \n",
       "1                                0                                      0   \n",
       "2                                0                                      0   \n",
       "3                                0                                      0   \n",
       "4                                0                                      0   \n",
       "\n",
       "   regionName_Ямало-Ненецкий автономный округ  regionName_Ярославская область  \n",
       "0                                           0                               0  \n",
       "1                                           0                               0  \n",
       "2                                           0                               0  \n",
       "3                                           0                               0  \n",
       "4                                           0                               0  \n",
       "\n",
       "[5 rows x 566 columns]"
      ]
     },
     "execution_count": 2,
     "metadata": {},
     "output_type": "execute_result"
    }
   ],
   "source": [
    "data = pd.read_csv('data/ngo_data.csv')\n",
    "\n",
    "data.head()"
   ]
  },
  {
   "cell_type": "code",
   "execution_count": 3,
   "id": "415cdbeb",
   "metadata": {},
   "outputs": [
    {
     "name": "stdout",
     "output_type": "stream",
     "text": [
      "4.83% записей имеют значение целевой переменной отличное от 0 класса.\n"
     ]
    }
   ],
   "source": [
    "# Выясним является ли выборка сбалансированной.\n",
    "mask_min = data['has_grant_contract'] > 0\n",
    "ratio = round(data[mask_min].shape[0] / data.shape[0] * 100, 2)\n",
    "print(f'{ratio}% записей имеют значение целевой переменной отличное от 0 класса.')"
   ]
  },
  {
   "cell_type": "code",
   "execution_count": 4,
   "id": "a015a8df",
   "metadata": {},
   "outputs": [
    {
     "data": {
      "text/plain": [
       "0    1191163\n",
       "2      47799\n",
       "1      11700\n",
       "3       1013\n",
       "Name: has_grant_contract, dtype: int64"
      ]
     },
     "execution_count": 4,
     "metadata": {},
     "output_type": "execute_result"
    }
   ],
   "source": [
    "data['has_grant_contract'].value_counts()"
   ]
  },
  {
   "cell_type": "markdown",
   "id": "c5ffc21c",
   "metadata": {},
   "source": [
    "На основании изложенного видим, что в целевой переменной присутствует дисбаланс классов. Для приведения выборки к сбалансированному виду проведем случайный андерсэмплинг класса 0."
   ]
  },
  {
   "cell_type": "code",
   "execution_count": 5,
   "id": "7d73ff8a",
   "metadata": {},
   "outputs": [
    {
     "data": {
      "text/plain": [
       "0    60512\n",
       "2    47799\n",
       "1    11700\n",
       "3     1013\n",
       "Name: has_grant_contract, dtype: int64"
      ]
     },
     "execution_count": 5,
     "metadata": {},
     "output_type": "execute_result"
    }
   ],
   "source": [
    "mask_maj = data['has_grant_contract'] == 0\n",
    "data_sample = pd.concat(\n",
    "    [\n",
    "        data[mask_maj].sample(data[mask_min].shape[0]),\n",
    "        data[mask_min]\n",
    "    ],\n",
    "    ignore_index=True\n",
    ")\n",
    "\n",
    "data_sample['has_grant_contract'].value_counts()"
   ]
  },
  {
   "cell_type": "code",
   "execution_count": 6,
   "id": "e95a1472",
   "metadata": {},
   "outputs": [
    {
     "name": "stdout",
     "output_type": "stream",
     "text": [
      "Размер обучающей выборки: 96819\n",
      "Размер тестовой выборки: 24205\n"
     ]
    }
   ],
   "source": [
    "X = data_sample.drop(['has_grant_contract'], axis=1)\n",
    "y = data_sample[['has_grant_contract']]\n",
    "\n",
    "# Разделяем выборку на тестовую и обучающую.\n",
    "X_train, X_test, y_train, y_test = train_test_split(X, y, stratify=y, test_size=0.2, random_state=42)\n",
    "\n",
    "print('Размер обучающей выборки:', X_train.shape[0])\n",
    "print('Размер тестовой выборки:', X_test.shape[0])"
   ]
  },
  {
   "cell_type": "code",
   "execution_count": 7,
   "id": "027947b2",
   "metadata": {},
   "outputs": [
    {
     "name": "stdout",
     "output_type": "stream",
     "text": [
      "F1 случайное угадывание: 0.198\n"
     ]
    }
   ],
   "source": [
    "# Определим значение F1-метрики для случая случайного угадывания.\n",
    "y_test_pred_rand = np.array([i % 4 for i in range(y_test.shape[0])])\n",
    "\n",
    "print('F1 случайное угадывание:', f1_score(y_test, y_test_pred_rand, average='macro').round(3))"
   ]
  },
  {
   "cell_type": "markdown",
   "id": "c4fae0fb",
   "metadata": {},
   "source": [
    "Построим baseline, для данной цели будем использовать мультиклассовую модель логистической регрессии с параметрами по умолчанию. Качество модели будем оценивать с помощью F1-метрики, так как данная метрика нечуствительны к дисбалансу выборки."
   ]
  },
  {
   "cell_type": "code",
   "execution_count": 8,
   "id": "c6214080",
   "metadata": {},
   "outputs": [
    {
     "name": "stdout",
     "output_type": "stream",
     "text": [
      "F1 логистическая регрессия (train): 0.418\n",
      "F1 логистическая регрессия (test): 0.41\n"
     ]
    }
   ],
   "source": [
    "# Создадим объект класса логистическая регрессия.\n",
    "log_reg = linear_model.LogisticRegression(\n",
    "    multi_class='multinomial', \n",
    "    class_weight='balanced',\n",
    "    random_state=42\n",
    ")\n",
    "\n",
    "# Обучаем модель.\n",
    "log_reg.fit(X_train, y_train)\n",
    "\n",
    "# Предсказание класса для обучающей и тестовой выборок.\n",
    "y_test_pred_log_reg = log_reg.predict(X_test)\n",
    "y_train_pred_log_reg = log_reg.predict(X_train)\n",
    "\n",
    "print('F1 логистическая регрессия (train):', f1_score(y_train, y_train_pred_log_reg, average='macro').round(3))\n",
    "print('F1 логистическая регрессия (test):', f1_score(y_test, y_test_pred_log_reg, average='macro').round(3))"
   ]
  },
  {
   "cell_type": "code",
   "execution_count": 9,
   "id": "902ce35f",
   "metadata": {},
   "outputs": [
    {
     "name": "stdout",
     "output_type": "stream",
     "text": [
      "F1 решающие деревья (train): 0.84\n",
      "F1 решающие деревья (test): 0.459\n"
     ]
    }
   ],
   "source": [
    "# Создадим объект класса решающее дерево.\n",
    "dec_tr = tree.DecisionTreeClassifier( \n",
    "    class_weight='balanced',\n",
    "    random_state=42\n",
    ")\n",
    "\n",
    "# Обучаем модель.\n",
    "dec_tr.fit(X_train, y_train)\n",
    "\n",
    "# Предсказание класса для обучающей и тестовой выборок.\n",
    "y_test_pred_dec_tr = dec_tr.predict(X_test)\n",
    "y_train_pred_dec_tr = dec_tr.predict(X_train)\n",
    "\n",
    "print('F1 решающие деревья (train):', f1_score(y_train, y_train_pred_dec_tr, average='macro').round(3))\n",
    "print('F1 решающие деревья (test):', f1_score(y_test, y_test_pred_dec_tr, average='macro').round(3))"
   ]
  },
  {
   "cell_type": "markdown",
   "id": "9341c8dd",
   "metadata": {},
   "source": [
    "На основании результатов обучения моделей логистическая регрессия и решающие деревья, видим, что алгоритм классификации на основании решаущих деревей переобучается. Подберем оптимальную глубину дерева, и обучим модель с ограниченной глубиной дерева решений. "
   ]
  },
  {
   "cell_type": "code",
   "execution_count": 10,
   "id": "54750d04",
   "metadata": {},
   "outputs": [
    {
     "data": {
      "image/png": "[encoded data removed]",
      "text/plain": [
       "<Figure size 1600x800 with 1 Axes>"
      ]
     },
     "metadata": {},
     "output_type": "display_data"
    }
   ],
   "source": [
    "# Подберем оптимальную глубину дерева решений.\n",
    "max_depths = range(10, 105, 10)\n",
    "f1_train = []\n",
    "f1_test = []\n",
    "\n",
    "for max_depth in max_depths:\n",
    "    dt = tree.DecisionTreeClassifier(\n",
    "        max_depth=max_depth,\n",
    "        class_weight='balanced',\n",
    "        random_state=42\n",
    "    )\n",
    "    dt.fit(X_train, y_train)\n",
    "    y_train_pred_dt = dt.predict(X_train)\n",
    "    y_test_pred_dt = dt.predict(X_test)\n",
    "    f1_train.append(f1_score(y_train, y_train_pred_dt, average='macro'))\n",
    "    f1_test.append(f1_score(y_test, y_test_pred_dt, average='macro'))\n",
    "    \n",
    "# Построим линейный графики изменения F1-метрики в зависимости от значения параметра глубины дерева решений\n",
    "fig, ax = plt.subplots(figsize=(16, 8))\n",
    "\n",
    "ax.plot(\n",
    "    list(max_depths),\n",
    "    f1_train,\n",
    "    color='blue',\n",
    "    label='F1-метрика на тренировочной выборке'\n",
    ")\n",
    "\n",
    "ax.plot(\n",
    "    list(max_depths),\n",
    "    f1_test,\n",
    "    color='green',\n",
    "    label='F1-метрика на тестовой выборке'\n",
    ")\n",
    "    \n",
    "ax.set_title('Значение F1-метрики в зависимости от глубины дерева решений', fontsize=16)\n",
    "ax.set_xlabel('Глубина дерева решений')\n",
    "ax.set_ylabel('F1-метрика')\n",
    "ax.legend();"
   ]
  },
  {
   "cell_type": "markdown",
   "id": "f44d4f4f",
   "metadata": {},
   "source": [
    "На основании построенного графика видим, что максимальное значение F1-метрики достигается при значении глубины дерева решений 30, после указанного значения глубины дерева решений наблюдается только прирост F1-метрики на обучающей выборке, при этом изменения метрики качества на тестовой выборке не наблюдается, то есть модель переобучается. Таким образом для исключения возможности переобучения модели, ограничим глубину дерева решений значением равным 30."
   ]
  },
  {
   "cell_type": "code",
   "execution_count": 11,
   "id": "ba80491f",
   "metadata": {},
   "outputs": [
    {
     "name": "stdout",
     "output_type": "stream",
     "text": [
      "F1 решающие деревья (train): 0.639\n",
      "F1 решающие деревья (test): 0.443\n"
     ]
    }
   ],
   "source": [
    "# Создадим объект класса решающее дерево.\n",
    "dtr_lim = tree.DecisionTreeClassifier( \n",
    "    max_depth=30,\n",
    "    class_weight='balanced',\n",
    "    random_state=42\n",
    ")\n",
    "\n",
    "# Обучаем модель.\n",
    "dtr_lim.fit(X_train, y_train)\n",
    "\n",
    "# Предсказание класса для обучающей и тестовой выборок.\n",
    "y_test_pred_dtr_lim = dtr_lim.predict(X_test)\n",
    "y_train_pred_dtr_lim = dtr_lim.predict(X_train)\n",
    "\n",
    "print('F1 решающие деревья (train):', f1_score(y_train, y_train_pred_dtr_lim, average='macro').round(3))\n",
    "print('F1 решающие деревья (test):', f1_score(y_test, y_test_pred_dtr_lim, average='macro').round(3))"
   ]
  },
  {
   "cell_type": "markdown",
   "id": "7593e323",
   "metadata": {},
   "source": [
    "Построим модель классификации на основании алгоритма k ближайших соседей с параметрами по умолчанию."
   ]
  },
  {
   "cell_type": "code",
   "execution_count": 12,
   "id": "473087d6",
   "metadata": {},
   "outputs": [
    {
     "name": "stdout",
     "output_type": "stream",
     "text": [
      "F1 k ближайших соседей (train): 0.553\n",
      "F1 k ближайших соседей (test): 0.431\n"
     ]
    }
   ],
   "source": [
    "# Создадим объект класса.\n",
    "kn_cls = neighbors.KNeighborsClassifier(n_jobs = -1)\n",
    "\n",
    "# Обучаем модель.\n",
    "kn_cls.fit(X_train, y_train)\n",
    "\n",
    "# Предсказание класса для обучающей и тестовой выборок.\n",
    "y_test_pred_kn_cls = kn_cls.predict(X_test)\n",
    "y_train_pred_kn_cls = kn_cls.predict(X_train)\n",
    "\n",
    "print('F1 k ближайших соседей (train):', f1_score(y_train, y_train_pred_kn_cls, average='macro').round(3))\n",
    "print('F1 k ближайших соседей (test):', f1_score(y_test, y_test_pred_kn_cls, average='macro').round(3))"
   ]
  },
  {
   "cell_type": "markdown",
   "id": "f8ad9821",
   "metadata": {},
   "source": [
    "На основании результатов обучения выбранных алгоритмов классификации, видим, что наилучшие результаты показали решающие деревья. Для улучшения качества модели, произведем поиск гиперпараметров с помощью GridSearchCV."
   ]
  },
  {
   "cell_type": "code",
   "execution_count": 13,
   "id": "b5584faa",
   "metadata": {},
   "outputs": [
    {
     "name": "stdout",
     "output_type": "stream",
     "text": [
      "F1-метрика на обучающей выборке: 0.596\n",
      "F1-метрика на тестовой выборке: 0.45\n",
      "Наилучшие значения гиперпараметров: {'ccp_alpha': 0.0, 'criterion': 'gini', 'min_samples_leaf': 1, 'min_samples_split': 8}\n"
     ]
    }
   ],
   "source": [
    "# Задаем сетку параметров.\n",
    "param_grid = {\n",
    "    'criterion': ['gini','entropy'],\n",
    "    'min_samples_leaf': range(1, 11),\n",
    "    'min_samples_split': range(2, 10, 2),\n",
    "    'ccp_alpha': [0.0, 0.001, 0.01]\n",
    "}\n",
    "\n",
    "# Создадим объект класса GridSearchCV. \n",
    "grid_search = GridSearchCV(\n",
    "    estimator=tree.DecisionTreeClassifier(\n",
    "        max_depth=30,\n",
    "        class_weight='balanced', \n",
    "        random_state=42\n",
    "        ), \n",
    "    param_grid=param_grid, \n",
    "    scoring='f1_macro',\n",
    "    cv=5, \n",
    "    n_jobs = -1\n",
    ") \n",
    "\n",
    "# Обучаем модель с наилучшими значениями гиперпараметров.\n",
    "grid_search.fit(X_train, y_train)\n",
    "\n",
    "y_train_pred_gs = grid_search.predict(X_train)\n",
    "y_test_pred_gs = grid_search.predict(X_test)\n",
    "\n",
    "print('F1-метрика на обучающей выборке:', f1_score(y_train, y_train_pred_gs, average='macro').round(3))\n",
    "print('F1-метрика на тестовой выборке:', f1_score(y_test, y_test_pred_gs, average='macro').round(3))\n",
    "print('Наилучшие значения гиперпараметров:', grid_search.best_params_)"
   ]
  },
  {
   "cell_type": "markdown",
   "id": "438ece29",
   "metadata": {},
   "source": [
    "В результате подбора гиперпараметров удалось улучшить метрику качества на 0,007. Для улчшения модели будем использовать ансамблевые алгоритмы. "
   ]
  },
  {
   "cell_type": "markdown",
   "id": "25c1551c",
   "metadata": {},
   "source": [
    "### Бэггинг"
   ]
  },
  {
   "cell_type": "code",
   "execution_count": 14,
   "id": "07719e4f",
   "metadata": {},
   "outputs": [
    {
     "name": "stdout",
     "output_type": "stream",
     "text": [
      "F1 случайный лес (train): 0.582\n",
      "F1 случайный лес (test): 0.488\n"
     ]
    }
   ],
   "source": [
    "# Создадим объект класса случайный лес, в качестве гиперпараметров передадим \n",
    "# значения, полученные с помощью GridSearchCV.\n",
    "rf_cls = ensemble.RandomForestClassifier(\n",
    "    max_depth=30,\n",
    "    min_samples_split=8,\n",
    "    class_weight='balanced', \n",
    "    random_state=42\n",
    ")\n",
    "\n",
    "# Обучаем модель\n",
    "rf_cls.fit(X_train, y_train)\n",
    "\n",
    "# Предсказание класса для обучающей и тестовой выборок.\n",
    "y_test_pred_rf_cls = rf_cls.predict(X_test)\n",
    "y_train_pred_rf_cls = rf_cls.predict(X_train)\n",
    "\n",
    "print('F1 случайный лес (train):', f1_score(y_train, y_train_pred_rf_cls, average='macro').round(3))\n",
    "print('F1 случайный лес (test):', f1_score(y_test, y_test_pred_rf_cls, average='macro').round(3))"
   ]
  },
  {
   "cell_type": "code",
   "execution_count": 15,
   "id": "6886cfaf",
   "metadata": {},
   "outputs": [
    {
     "data": {
      "text/plain": [
       "ngo_age                                                                                                                                             0.080292\n",
       "Предоставление социальных услуг без обеспечения проживания престарелым и инвалидам                                                                  0.031350\n",
       "regionName_Москва                                                                                                                                   0.028037\n",
       "Деятельность по дополнительному профессиональному образованию прочая, не включенная в другие группировки                                            0.020378\n",
       "Подготовка кадров высшей квалификации                                                                                                               0.019955\n",
       "Управление эксплуатацией нежилого фонда за вознаграждение или на договорной основе                                                                  0.018585\n",
       "Научные исследования и разработки в области общественных и гуманитарных наук                                                                        0.018229\n",
       "Предоставление прочих социальных услуг без обеспечения проживания, не включенных в другие группировки                                               0.017664\n",
       "Образование профессиональное дополнительное                                                                                                         0.015100\n",
       "Деятельность по изучению общественного мнения                                                                                                       0.014309\n",
       "Деятельность зрелищно-развлекательная прочая                                                                                                        0.014210\n",
       "Виды издательской деятельности прочие                                                                                                               0.013547\n",
       "Прочая деятельность                                                                                                                                 0.012734\n",
       "Издание журналов и периодических изданий                                                                                                            0.011556\n",
       "Издание книг                                                                                                                                        0.011228\n",
       "Издание книг, брошюр, рекламных буклетов и аналогичных изданий, включая издание словарей и энциклопедий, в том числе для слепых, в печатном виде    0.011020\n",
       "Деятельность зрелищно-развлекательная прочая, не включенная в другие группировки                                                                    0.010900\n",
       "regionName_Санкт-Петербург                                                                                                                          0.010050\n",
       "Образование дополнительное детей и взрослых                                                                                                         0.009525\n",
       "Образование дополнительное детей и взрослых прочее, не включенное в другие группировки                                                              0.009344\n",
       "dtype: float64"
      ]
     },
     "execution_count": 15,
     "metadata": {},
     "output_type": "execute_result"
    }
   ],
   "source": [
    "# Выведем ТОП-20 признаков по значимости.\n",
    "feature_importances = (\n",
    "    pd.Series(rf_cls.feature_importances_, index=X.columns)\n",
    "    .sort_values(ascending=False)\n",
    "    .head(20)\n",
    ")\n",
    "feature_importances"
   ]
  },
  {
   "cell_type": "markdown",
   "id": "d716b812",
   "metadata": {},
   "source": [
    "Из полученных данных, видим, что нам удалось улучшуть метрику качества предсказательной модели. При этомнаиболее значимым признаком является возраст НКО. На 3 и 19 позициях значатся признаки, соответствующие расположению НКО в Москве и Санкт-Петербурге соответственно. На остальных позициях значатся признаки, соответствующие определенному виду экономической деятельности."
   ]
  },
  {
   "cell_type": "markdown",
   "id": "0a2b6a0a",
   "metadata": {},
   "source": [
    "### Бустинг"
   ]
  },
  {
   "cell_type": "code",
   "execution_count": 16,
   "id": "47cbfa55",
   "metadata": {},
   "outputs": [
    {
     "name": "stdout",
     "output_type": "stream",
     "text": [
      "F1 адаптивный бустинг (train): 0.685\n",
      "F1 адаптивный бустинг (test): 0.448\n"
     ]
    }
   ],
   "source": [
    "# Реализуем алгоритм адаптивного бустинга.\n",
    "# В качестве базовой модели будем использовать решющие деревья.\n",
    "base_estimator= tree.DecisionTreeClassifier( \n",
    "    max_depth=30,\n",
    "    class_weight='balanced',\n",
    "    random_state=42\n",
    ")\n",
    "\n",
    "# Создадим объект класса AdaBoostClassifier.\n",
    "ada_cls = ensemble.AdaBoostClassifier(\n",
    "    base_estimator=base_estimator,\n",
    "    learning_rate=0.0001,\n",
    "    random_state=42, \n",
    "    n_estimators=50\n",
    ")\n",
    "\n",
    "# Обучаем модель\n",
    "ada_cls.fit(X_train, y_train)\n",
    "\n",
    "# Предсказание класса для обучающей и тестовой выборок.\n",
    "y_test_pred_ada_cls = ada_cls.predict(X_test)\n",
    "y_train_pred_ada_cls = ada_cls.predict(X_train)\n",
    "\n",
    "print('F1 адаптивный бустинг (train):', f1_score(y_train, y_train_pred_ada_cls, average='macro').round(3))\n",
    "print('F1 адаптивный бустинг (test):', f1_score(y_test, y_test_pred_ada_cls, average='macro').round(3))"
   ]
  },
  {
   "cell_type": "markdown",
   "id": "c5e0cee9",
   "metadata": {},
   "source": [
    "### Стекинг"
   ]
  },
  {
   "cell_type": "code",
   "execution_count": 17,
   "id": "3ef68f57",
   "metadata": {},
   "outputs": [
    {
     "name": "stdout",
     "output_type": "stream",
     "text": [
      "F1 стекинг (train): 0.537\n",
      "F1 стекинг (test): 0.554\n"
     ]
    }
   ],
   "source": [
    "# Создаем список кортежей базовых моделей.\n",
    "estimators = [\n",
    "    ('lr', linear_model.LogisticRegression(\n",
    "        multi_class='multinomial', \n",
    "        class_weight='balanced',\n",
    "        random_state=42\n",
    "        )\n",
    "    ),\n",
    "    ('dt', tree.DecisionTreeClassifier( \n",
    "        max_depth=30,\n",
    "        class_weight='balanced',\n",
    "        random_state=42\n",
    "        )\n",
    "    ),\n",
    "    ('kn', neighbors.KNeighborsClassifier(n_jobs = -1))\n",
    "]\n",
    "\n",
    "# Создаем объект класса стекинг.\n",
    "st_cls = ensemble.StackingClassifier(\n",
    "    estimators=estimators,\n",
    "    final_estimator=ensemble.RandomForestClassifier(\n",
    "        max_depth=100,\n",
    "        class_weight='balanced', \n",
    "        random_state=42\n",
    "    ),\n",
    "    cv=5,\n",
    "    n_jobs=-1\n",
    ")\n",
    "\n",
    "#Обучаем модель\n",
    "st_cls.fit(X_train, y_train)\n",
    "\n",
    "# Предсказание класса для обучающей и тестовой выборок.\n",
    "y_test_pred_st_cls = st_cls.predict(X_test)\n",
    "y_train_pred_st_cls = st_cls.predict(X_train)\n",
    "\n",
    "print('F1 стекинг (train):', f1_score(y_train, y_train_pred_st_cls, average='macro').round(3))\n",
    "print('F1 стекинг (test):', f1_score(y_test, y_test_pred_st_cls, average='macro').round(3))"
   ]
  },
  {
   "cell_type": "markdown",
   "id": "26cb730e",
   "metadata": {},
   "source": [
    "На основании метрики качества построенных алгоритмов классификации, видим, что наилучший результат продемострировал классификатор на основании стекинга, значение метрики качества более чем в 2,5 раза превышает случайное угадывание. Для обеспечения возможности интерпритации построенного прогноза рассчитаем метрики Precision и Recall на тестовой выборке. "
   ]
  },
  {
   "cell_type": "code",
   "execution_count": 18,
   "id": "58859089",
   "metadata": {},
   "outputs": [
    {
     "name": "stdout",
     "output_type": "stream",
     "text": [
      "Precision тестовая выборка: 0.647\n",
      "Recall тестовая выборка: 0.515\n"
     ]
    }
   ],
   "source": [
    "print('Precision тестовая выборка:', precision_score(y_test, y_test_pred_st_cls, average='macro').round(3))\n",
    "print('Recall тестовая выборка:', recall_score(y_test, y_test_pred_st_cls, average='macro').round(3))"
   ]
  },
  {
   "cell_type": "markdown",
   "id": "30aae03b",
   "metadata": {},
   "source": [
    "**Вывод:** расчет метрик классификации Precision и Recall позволяет рассчитать полную вероятность, того что модель может кореектно определить класс объекта, в нашем случае она составляет 0,647 * 0,515 = 0,333. То есть только в 1 из 3 случаев модель корректно определяет принадлежность объекта определенному классу (получала ли НКО грант / заклучала госконтракт)."
   ]
  },
  {
   "cell_type": "markdown",
   "id": "b492f5f8",
   "metadata": {},
   "source": [
    "Построим упрощенный вариант модели для случая бинарной классификации, для отого объеденим классы 1, 2 и 3 в один класс, то есть мы будем отслеживать лишь возможность получения гранта или заклучения госконтракта независимо от вида господдержки). В качестве модели классификации будем использовать алгоритм стекинга. "
   ]
  },
  {
   "cell_type": "code",
   "execution_count": 19,
   "id": "4657d473",
   "metadata": {},
   "outputs": [
    {
     "name": "stdout",
     "output_type": "stream",
     "text": [
      "F1 бинарный стекинг (train): 0.742\n",
      "F1 бинарный стекинг (test): 0.662\n"
     ]
    }
   ],
   "source": [
    "# Оьъеденим классы в обучающей и тестовой выборках.\n",
    "y_train_bin = y_train['has_grant_contract'].apply(lambda x: 1 if x in [2, 3] else x)\n",
    "y_test_bin = y_test['has_grant_contract'].apply(lambda x: 1 if x in [2, 3] else x)\n",
    "\n",
    "# Создаем список кортежей базовых моделей.\n",
    "estimators_bin = [\n",
    "    ('lr', linear_model.LogisticRegression(random_state=42)),\n",
    "    ('dt', tree.DecisionTreeClassifier(random_state=42)),\n",
    "    ('kn', neighbors.KNeighborsClassifier(n_jobs = -1))\n",
    "]\n",
    "\n",
    "# Создаем объект класса стекинг.\n",
    "st_cls_bin = ensemble.StackingClassifier(\n",
    "    estimators=estimators_bin,\n",
    "    final_estimator=ensemble.RandomForestClassifier(\n",
    "        max_depth=100,\n",
    "        random_state=42\n",
    "    ),\n",
    "    cv=5,\n",
    "    n_jobs=-1\n",
    ")\n",
    "\n",
    "#Обучаем модель\n",
    "st_cls_bin.fit(X_train, y_train_bin)\n",
    "\n",
    "# Предсказание класса для обучающей и тестовой выборок.\n",
    "y_test_pred_st_cls_bin = st_cls_bin.predict(X_test)\n",
    "y_train_pred_st_cls_bin = st_cls_bin.predict(X_train)\n",
    "\n",
    "print('F1 бинарный стекинг (train):', f1_score(y_train_bin, y_train_pred_st_cls_bin).round(3))\n",
    "print('F1 бинарный стекинг (test):', f1_score(y_test_bin, y_test_pred_st_cls_bin).round(3))"
   ]
  },
  {
   "cell_type": "code",
   "execution_count": 20,
   "id": "2f7c0ac5",
   "metadata": {},
   "outputs": [
    {
     "name": "stdout",
     "output_type": "stream",
     "text": [
      "Precision тестовая выборка: 0.661\n",
      "Recall тестовая выборка: 0.663\n"
     ]
    }
   ],
   "source": [
    "print('Precision тестовая выборка:', precision_score(y_test_bin, y_test_pred_st_cls_bin).round(3))\n",
    "print('Recall тестовая выборка:', recall_score(y_test_bin, y_test_pred_st_cls_bin).round(3))"
   ]
  },
  {
   "cell_type": "markdown",
   "id": "b5de0e51",
   "metadata": {},
   "source": [
    "Произведем расчет метрик классификации Precision и Recall для бинарного случая и рассчитаем полную вероятность, того что модель может кореектно определить класс объекта, в нашем случае она составляет 0.663 * 0.661 = 0,438."
   ]
  },
  {
   "cell_type": "code",
   "execution_count": 21,
   "id": "7a03b5f4",
   "metadata": {},
   "outputs": [],
   "source": [
    "# Подготовим полученные модели для реализации в ПРОД, для этого\n",
    "# произведем сериализацию и запись результатов в файлы формата pkl.\n",
    "with open('stacking_multi.pkl', 'wb') as output:\n",
    "    pickle.dump(st_cls, output)\n",
    "\n",
    "with open('stacking_bin.pkl', 'wb') as output:\n",
    "    pickle.dump(st_cls_bin, output)"
   ]
  },
  {
   "cell_type": "markdown",
   "id": "4ad45a07",
   "metadata": {},
   "source": [
    "# Вывод"
   ]
  },
  {
   "cell_type": "markdown",
   "id": "c15ea614",
   "metadata": {},
   "source": [
    "На основании полученных данных мы можем сделать вывод о том, что зависимость получения гранта / заключекния госконтракта от признаков: возраст НКО, месторасположение и видов эконимеческой деятельности есть, но данная зависимость слабая. Наиболее важным признаком в данном случае является возраст НКО."
   ]
  },
  {
   "cell_type": "code",
   "execution_count": null,
   "id": "f4518264",
   "metadata": {},
   "outputs": [],
   "source": []
  }
 ],
 "metadata": {
  "kernelspec": {
   "display_name": "Python 3 (ipykernel)",
   "language": "python",
   "name": "python3"
  },
  "language_info": {
   "codemirror_mode": {
    "name": "ipython",
    "version": 3
   },
   "file_extension": ".py",
   "mimetype": "text/x-python",
   "name": "python",
   "nbconvert_exporter": "python",
   "pygments_lexer": "ipython3",
   "version": "3.9.13"
  }
 },
 "nbformat": 4,
 "nbformat_minor": 5
}
